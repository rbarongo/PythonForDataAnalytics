{
 "cells": [
  {
   "cell_type": "code",
   "execution_count": null,
   "id": "da6bc977",
   "metadata": {},
   "outputs": [],
   "source": [
    "\"\"\"\n",
    "COVERAGE \n",
    "(1)   Import data from file\n",
    "(2)   Exploratory data analysis\n",
    "      a.     Obtaining statistical summary\n",
    "      b.     Plotting data to view patterns\n",
    "(3)   Data cleaning\n",
    "      a.     Detecting and addressing duplicates\n",
    "      b.     Detecting and addressing missing values (replacing with value, with mean, mode, median)\n",
    "(4)   Data analysis\n",
    "      a.     Filtering\n",
    "      b.     Adding and manipulating columns and rows\n",
    "\"\"\""
   ]
  },
  {
   "cell_type": "code",
   "execution_count": null,
   "id": "343c0fe7",
   "metadata": {},
   "outputs": [],
   "source": [
    "#import libraries\n",
    "import numpy as np\n",
    "import pandas as pd\n",
    "import matplotlib\n",
    "import matplotlib.pyplot as plt\n",
    "import seaborn as sns"
   ]
  },
  {
   "cell_type": "markdown",
   "id": "859292da",
   "metadata": {},
   "source": [
    "#### (1)Import data from file"
   ]
  },
  {
   "cell_type": "code",
   "execution_count": null,
   "id": "8e01e9ba",
   "metadata": {},
   "outputs": [],
   "source": [
    "\n",
    "data = pd.read_csv('sample_data.csv')\n",
    "data.head()\n",
    "#data1 = pd.read_csv('sample_data1.csv')\n"
   ]
  },
  {
   "cell_type": "code",
   "execution_count": null,
   "id": "0bfaff12",
   "metadata": {},
   "outputs": [],
   "source": [
    "#Verify your dataset\n",
    "#check number of values in dataset\n",
    "print('Number of values in dataset: ', data.size)"
   ]
  },
  {
   "cell_type": "code",
   "execution_count": null,
   "id": "4d80b579",
   "metadata": {},
   "outputs": [],
   "source": [
    "#check shape (number of rows and number of columns)\n",
    "print('Number of rows and columns in dataset: ', data.shape)\n"
   ]
  },
  {
   "cell_type": "code",
   "execution_count": null,
   "id": "5bb22ec2",
   "metadata": {},
   "outputs": [],
   "source": [
    "#check data types without \\n\n",
    "print('Data types in dataset are : ', data.dtypes)"
   ]
  },
  {
   "cell_type": "code",
   "execution_count": null,
   "id": "fc91883e",
   "metadata": {},
   "outputs": [],
   "source": [
    "#check data types ..with \\n to display values in the next line\n",
    "print('Data types in dataset are : \\n', data.dtypes)"
   ]
  },
  {
   "cell_type": "code",
   "execution_count": null,
   "id": "0c679559",
   "metadata": {},
   "outputs": [],
   "source": [
    "#check columns in dataset\n",
    "print('Data columns in dataset are : \\n', data.columns)"
   ]
  },
  {
   "cell_type": "code",
   "execution_count": null,
   "id": "f2066da9",
   "metadata": {},
   "outputs": [],
   "source": [
    "data['Salary ']"
   ]
  },
  {
   "cell_type": "code",
   "execution_count": null,
   "id": "9e119714",
   "metadata": {},
   "outputs": [],
   "source": [
    "#rename column salary which has space\n",
    "#two alternatives to make permanent changes\n",
    "#(1)replace original dataset with changed copy\n",
    "#data = data.rename(columns = {'Salary ':'Salary'})\n",
    "#(2)use attribute inplace=True\n",
    "data.rename(columns = {'Salary ':'Salary'}, inplace = True)"
   ]
  },
  {
   "cell_type": "code",
   "execution_count": null,
   "id": "77dc90c8",
   "metadata": {},
   "outputs": [],
   "source": [
    "#view information about dataset\n",
    "#use of info()\n",
    "#existance and number of null values and their columns\n",
    "#view data types\n",
    "data.info()"
   ]
  },
  {
   "cell_type": "markdown",
   "id": "4aa809d5",
   "metadata": {},
   "source": [
    "#### (2) Exploratory Data Analysis\n"
   ]
  },
  {
   "cell_type": "code",
   "execution_count": null,
   "id": "e16d28f9",
   "metadata": {},
   "outputs": [],
   "source": [
    "#Describe data using statistics\n",
    "#Provides statistical summary of numerical data\n",
    "data.describe()"
   ]
  },
  {
   "cell_type": "code",
   "execution_count": null,
   "id": "224587c5",
   "metadata": {},
   "outputs": [],
   "source": [
    "data1.describe()"
   ]
  },
  {
   "cell_type": "code",
   "execution_count": null,
   "id": "a0cf5305",
   "metadata": {
    "scrolled": true
   },
   "outputs": [],
   "source": [
    "#Use boxplot or histogram to view outliers\n",
    "sns.boxplot(data['Salary'])"
   ]
  },
  {
   "cell_type": "code",
   "execution_count": null,
   "id": "5dadb12b",
   "metadata": {},
   "outputs": [],
   "source": [
    "sns.boxplot(data1['Salary '])"
   ]
  },
  {
   "cell_type": "code",
   "execution_count": null,
   "id": "a39f0a2b",
   "metadata": {},
   "outputs": [],
   "source": [
    "#kdata = pd.read_csv('kidney_disease.csv')"
   ]
  },
  {
   "cell_type": "code",
   "execution_count": null,
   "id": "99090638",
   "metadata": {},
   "outputs": [],
   "source": [
    "data['Salary']"
   ]
  },
  {
   "cell_type": "code",
   "execution_count": null,
   "id": "f0370ef5",
   "metadata": {},
   "outputs": [],
   "source": [
    "#kdata.tail(20)"
   ]
  },
  {
   "cell_type": "code",
   "execution_count": null,
   "id": "c5af8fbe",
   "metadata": {},
   "outputs": [],
   "source": []
  },
  {
   "cell_type": "code",
   "execution_count": null,
   "id": "3148bf8d",
   "metadata": {
    "scrolled": true
   },
   "outputs": [],
   "source": [
    "data\n"
   ]
  },
  {
   "cell_type": "markdown",
   "id": "c78dfad3",
   "metadata": {},
   "source": [
    "#### (3) Data Cleaning\n"
   ]
  },
  {
   "cell_type": "code",
   "execution_count": null,
   "id": "6fc18f52",
   "metadata": {},
   "outputs": [],
   "source": [
    "#(1) Removing outliers (extreme values which distort dataset statistics)\n",
    "#(2) Removind duplicates\n",
    "#(3) Filling missing values\n",
    "#(4) Modify data to required format M=male, F=female      Male"
   ]
  },
  {
   "cell_type": "code",
   "execution_count": null,
   "id": "02c44b8f",
   "metadata": {},
   "outputs": [],
   "source": [
    "#Remove outliers\n",
    "#I can remove data with salary below 15,000 and above 30,000\n",
    "filter = (data['Salary'] > 15000) & (data['Salary'] < 30000)\n"
   ]
  },
  {
   "cell_type": "code",
   "execution_count": null,
   "id": "bbbf46b3",
   "metadata": {},
   "outputs": [],
   "source": [
    "data[filter]"
   ]
  },
  {
   "cell_type": "code",
   "execution_count": null,
   "id": "fd40c889",
   "metadata": {},
   "outputs": [],
   "source": [
    "data = data[(data['Salary'] > 15000) & (data['Salary'] < 30000)]"
   ]
  },
  {
   "cell_type": "code",
   "execution_count": null,
   "id": "526306bb",
   "metadata": {},
   "outputs": [],
   "source": [
    "sns.boxplot(data['Salary'])"
   ]
  },
  {
   "cell_type": "code",
   "execution_count": null,
   "id": "fb33945a",
   "metadata": {},
   "outputs": [],
   "source": [
    "data"
   ]
  },
  {
   "cell_type": "code",
   "execution_count": null,
   "id": "14bb42e1",
   "metadata": {},
   "outputs": [],
   "source": [
    "#removing duplicates\n",
    "#detect \n",
    "data.duplicated()"
   ]
  },
  {
   "cell_type": "code",
   "execution_count": null,
   "id": "92a02289",
   "metadata": {},
   "outputs": [],
   "source": [
    "#remove\n",
    "data = data.drop_duplicates()"
   ]
  },
  {
   "cell_type": "code",
   "execution_count": null,
   "id": "92b88a14",
   "metadata": {},
   "outputs": [],
   "source": [
    "data"
   ]
  },
  {
   "cell_type": "code",
   "execution_count": null,
   "id": "deb6568a",
   "metadata": {},
   "outputs": [],
   "source": [
    "#(3) Filling missing values   (represented by NaN in pandas)\n",
    "#detect\n",
    "data.isna()  #returns True whenever there is a missing values"
   ]
  },
  {
   "cell_type": "code",
   "execution_count": null,
   "id": "04093fa6",
   "metadata": {},
   "outputs": [],
   "source": [
    "#detect columns with missing values\n",
    "data.isna().any()"
   ]
  },
  {
   "cell_type": "code",
   "execution_count": null,
   "id": "12f6eefa",
   "metadata": {},
   "outputs": [],
   "source": []
  },
  {
   "cell_type": "code",
   "execution_count": null,
   "id": "1c36d4d1",
   "metadata": {},
   "outputs": [],
   "source": [
    "kdata = pd.read_csv('kidney_disease.csv')"
   ]
  },
  {
   "cell_type": "code",
   "execution_count": null,
   "id": "2a238000",
   "metadata": {},
   "outputs": [],
   "source": [
    "kdata.isna().any()"
   ]
  },
  {
   "cell_type": "code",
   "execution_count": null,
   "id": "9a5d7483",
   "metadata": {},
   "outputs": [],
   "source": [
    "#detect if dataset has missing values in one or more columns\n",
    "data.isna().any().any()"
   ]
  },
  {
   "cell_type": "code",
   "execution_count": null,
   "id": "89a70d00",
   "metadata": {},
   "outputs": [],
   "source": [
    "kdata.isna().any().any()"
   ]
  },
  {
   "cell_type": "code",
   "execution_count": null,
   "id": "87f19bfa",
   "metadata": {},
   "outputs": [],
   "source": [
    "#count missing values in one or more columns\n",
    "data.isna().sum()"
   ]
  },
  {
   "cell_type": "code",
   "execution_count": null,
   "id": "0f6bd96a",
   "metadata": {},
   "outputs": [],
   "source": [
    "kdata.isna().sum()"
   ]
  },
  {
   "cell_type": "code",
   "execution_count": null,
   "id": "1c269cae",
   "metadata": {},
   "outputs": [],
   "source": [
    "#number of columns with missing values\n",
    "data.isna().any().sum()"
   ]
  },
  {
   "cell_type": "code",
   "execution_count": null,
   "id": "822e0cc8",
   "metadata": {},
   "outputs": [],
   "source": [
    "#number of columns with missing values\n",
    "kdata.isna().any().sum()"
   ]
  },
  {
   "cell_type": "code",
   "execution_count": null,
   "id": "1a866d1e",
   "metadata": {},
   "outputs": [],
   "source": [
    "data.isna().any().count()"
   ]
  },
  {
   "cell_type": "code",
   "execution_count": null,
   "id": "b8d4ec6b",
   "metadata": {},
   "outputs": [],
   "source": [
    "kdata.isna().any().count()"
   ]
  },
  {
   "cell_type": "code",
   "execution_count": null,
   "id": "ad6edc9d",
   "metadata": {},
   "outputs": [],
   "source": [
    "data"
   ]
  },
  {
   "cell_type": "code",
   "execution_count": null,
   "id": "e7a8882c",
   "metadata": {},
   "outputs": [],
   "source": [
    "#treatment of missing values (1) delete (2)  find and insert values (3) replace them\n",
    "#Depends on data types\n",
    "#Numeric = fill with values, mean or median\n",
    "#Alphabetic = mode\n"
   ]
  },
  {
   "cell_type": "code",
   "execution_count": null,
   "id": "d921dc36",
   "metadata": {},
   "outputs": [],
   "source": [
    "#replace with fillna function\n",
    "#replace with value\n",
    "data['Salary '] = data[['Salary ']].fillna(20000)"
   ]
  },
  {
   "cell_type": "code",
   "execution_count": null,
   "id": "e79279e0",
   "metadata": {},
   "outputs": [],
   "source": [
    "data"
   ]
  },
  {
   "cell_type": "code",
   "execution_count": null,
   "id": "01b94b48",
   "metadata": {},
   "outputs": [],
   "source": [
    "data = pd.read_csv('sample_data.csv')"
   ]
  },
  {
   "cell_type": "code",
   "execution_count": null,
   "id": "736c0544",
   "metadata": {},
   "outputs": [],
   "source": [
    "#replace with mean\n",
    "data['Salary '] = data[['Salary ']].fillna(data['Salary '].mean())"
   ]
  },
  {
   "cell_type": "code",
   "execution_count": null,
   "id": "95ca9cc5",
   "metadata": {},
   "outputs": [],
   "source": [
    "data"
   ]
  },
  {
   "cell_type": "code",
   "execution_count": 186,
   "id": "5b38733c",
   "metadata": {},
   "outputs": [],
   "source": [
    "#replace with mean\n",
    "data = pd.read_csv('sample_data.csv')\n",
    "data['Salary '] = data[['Salary ']].fillna(data['Salary '].median())"
   ]
  },
  {
   "cell_type": "code",
   "execution_count": 187,
   "id": "1ff250a0",
   "metadata": {},
   "outputs": [
    {
     "data": {
      "text/html": [
       "<div>\n",
       "<style scoped>\n",
       "    .dataframe tbody tr th:only-of-type {\n",
       "        vertical-align: middle;\n",
       "    }\n",
       "\n",
       "    .dataframe tbody tr th {\n",
       "        vertical-align: top;\n",
       "    }\n",
       "\n",
       "    .dataframe thead th {\n",
       "        text-align: right;\n",
       "    }\n",
       "</style>\n",
       "<table border=\"1\" class=\"dataframe\">\n",
       "  <thead>\n",
       "    <tr style=\"text-align: right;\">\n",
       "      <th></th>\n",
       "      <th>Serial Number</th>\n",
       "      <th>Title</th>\n",
       "      <th>Salary</th>\n",
       "      <th>Qualification</th>\n",
       "    </tr>\n",
       "  </thead>\n",
       "  <tbody>\n",
       "    <tr>\n",
       "      <th>0</th>\n",
       "      <td>1</td>\n",
       "      <td>Software Engineer</td>\n",
       "      <td>50000.0</td>\n",
       "      <td>Bachelors</td>\n",
       "    </tr>\n",
       "    <tr>\n",
       "      <th>1</th>\n",
       "      <td>2</td>\n",
       "      <td>Data Scientist</td>\n",
       "      <td>23000.0</td>\n",
       "      <td>Masters</td>\n",
       "    </tr>\n",
       "    <tr>\n",
       "      <th>2</th>\n",
       "      <td>3</td>\n",
       "      <td>Project Manager</td>\n",
       "      <td>18000.0</td>\n",
       "      <td>Masters</td>\n",
       "    </tr>\n",
       "    <tr>\n",
       "      <th>3</th>\n",
       "      <td>4</td>\n",
       "      <td>Professor</td>\n",
       "      <td>25000.0</td>\n",
       "      <td>Doctorate</td>\n",
       "    </tr>\n",
       "    <tr>\n",
       "      <th>4</th>\n",
       "      <td>5</td>\n",
       "      <td>Database Architect</td>\n",
       "      <td>17000.0</td>\n",
       "      <td>Bachelors</td>\n",
       "    </tr>\n",
       "    <tr>\n",
       "      <th>5</th>\n",
       "      <td>6</td>\n",
       "      <td>Machine Learning Engineer</td>\n",
       "      <td>19000.0</td>\n",
       "      <td>Masters</td>\n",
       "    </tr>\n",
       "    <tr>\n",
       "      <th>6</th>\n",
       "      <td>7</td>\n",
       "      <td>Business Analyst</td>\n",
       "      <td>18000.0</td>\n",
       "      <td>NaN</td>\n",
       "    </tr>\n",
       "    <tr>\n",
       "      <th>7</th>\n",
       "      <td>8</td>\n",
       "      <td>UX/UI Developer</td>\n",
       "      <td>23.0</td>\n",
       "      <td>Bachelors</td>\n",
       "    </tr>\n",
       "    <tr>\n",
       "      <th>8</th>\n",
       "      <td>9</td>\n",
       "      <td>Devops Engineer</td>\n",
       "      <td>18500.0</td>\n",
       "      <td>Masters</td>\n",
       "    </tr>\n",
       "  </tbody>\n",
       "</table>\n",
       "</div>"
      ],
      "text/plain": [
       "   Serial Number                      Title  Salary  Qualification\n",
       "0              1          Software Engineer  50000.0     Bachelors\n",
       "1              2             Data Scientist  23000.0       Masters\n",
       "2              3            Project Manager  18000.0       Masters\n",
       "3              4                  Professor  25000.0     Doctorate\n",
       "4              5         Database Architect  17000.0     Bachelors\n",
       "5              6  Machine Learning Engineer  19000.0       Masters\n",
       "6              7           Business Analyst  18000.0           NaN\n",
       "7              8            UX/UI Developer     23.0     Bachelors\n",
       "8              9            Devops Engineer  18500.0       Masters"
      ]
     },
     "execution_count": 187,
     "metadata": {},
     "output_type": "execute_result"
    }
   ],
   "source": [
    "#replace with mode\n",
    "#data = pd.read_csv('sample_data.csv')\n",
    "data['Qualification'] = data['Qualification'].fillna(data['Qualification'].mode())\n",
    "data"
   ]
  },
  {
   "cell_type": "code",
   "execution_count": null,
   "id": "d5cd5eeb",
   "metadata": {},
   "outputs": [],
   "source": [
    "data.columns"
   ]
  },
  {
   "cell_type": "markdown",
   "id": "87e75b03",
   "metadata": {},
   "source": [
    "#### (4) Add or manipulate columns"
   ]
  },
  {
   "cell_type": "code",
   "execution_count": 189,
   "id": "71acd314",
   "metadata": {},
   "outputs": [
    {
     "data": {
      "text/html": [
       "<div>\n",
       "<style scoped>\n",
       "    .dataframe tbody tr th:only-of-type {\n",
       "        vertical-align: middle;\n",
       "    }\n",
       "\n",
       "    .dataframe tbody tr th {\n",
       "        vertical-align: top;\n",
       "    }\n",
       "\n",
       "    .dataframe thead th {\n",
       "        text-align: right;\n",
       "    }\n",
       "</style>\n",
       "<table border=\"1\" class=\"dataframe\">\n",
       "  <thead>\n",
       "    <tr style=\"text-align: right;\">\n",
       "      <th></th>\n",
       "      <th>Serial Number</th>\n",
       "      <th>Title</th>\n",
       "      <th>Salary</th>\n",
       "      <th>Qualification</th>\n",
       "      <th>prev_salary</th>\n",
       "    </tr>\n",
       "  </thead>\n",
       "  <tbody>\n",
       "    <tr>\n",
       "      <th>0</th>\n",
       "      <td>1</td>\n",
       "      <td>Software Engineer</td>\n",
       "      <td>50000.0</td>\n",
       "      <td>Bachelors</td>\n",
       "      <td>60000.0</td>\n",
       "    </tr>\n",
       "    <tr>\n",
       "      <th>1</th>\n",
       "      <td>2</td>\n",
       "      <td>Data Scientist</td>\n",
       "      <td>23000.0</td>\n",
       "      <td>Masters</td>\n",
       "      <td>33000.0</td>\n",
       "    </tr>\n",
       "    <tr>\n",
       "      <th>2</th>\n",
       "      <td>3</td>\n",
       "      <td>Project Manager</td>\n",
       "      <td>18000.0</td>\n",
       "      <td>Masters</td>\n",
       "      <td>28000.0</td>\n",
       "    </tr>\n",
       "    <tr>\n",
       "      <th>3</th>\n",
       "      <td>4</td>\n",
       "      <td>Professor</td>\n",
       "      <td>25000.0</td>\n",
       "      <td>Doctorate</td>\n",
       "      <td>35000.0</td>\n",
       "    </tr>\n",
       "    <tr>\n",
       "      <th>4</th>\n",
       "      <td>5</td>\n",
       "      <td>Database Architect</td>\n",
       "      <td>17000.0</td>\n",
       "      <td>Bachelors</td>\n",
       "      <td>27000.0</td>\n",
       "    </tr>\n",
       "    <tr>\n",
       "      <th>5</th>\n",
       "      <td>6</td>\n",
       "      <td>Machine Learning Engineer</td>\n",
       "      <td>19000.0</td>\n",
       "      <td>Masters</td>\n",
       "      <td>29000.0</td>\n",
       "    </tr>\n",
       "    <tr>\n",
       "      <th>6</th>\n",
       "      <td>7</td>\n",
       "      <td>Business Analyst</td>\n",
       "      <td>18000.0</td>\n",
       "      <td>NaN</td>\n",
       "      <td>28000.0</td>\n",
       "    </tr>\n",
       "    <tr>\n",
       "      <th>7</th>\n",
       "      <td>8</td>\n",
       "      <td>UX/UI Developer</td>\n",
       "      <td>23.0</td>\n",
       "      <td>Bachelors</td>\n",
       "      <td>10023.0</td>\n",
       "    </tr>\n",
       "    <tr>\n",
       "      <th>8</th>\n",
       "      <td>9</td>\n",
       "      <td>Devops Engineer</td>\n",
       "      <td>18500.0</td>\n",
       "      <td>Masters</td>\n",
       "      <td>28500.0</td>\n",
       "    </tr>\n",
       "  </tbody>\n",
       "</table>\n",
       "</div>"
      ],
      "text/plain": [
       "   Serial Number                      Title  Salary  Qualification  \\\n",
       "0              1          Software Engineer  50000.0     Bachelors   \n",
       "1              2             Data Scientist  23000.0       Masters   \n",
       "2              3            Project Manager  18000.0       Masters   \n",
       "3              4                  Professor  25000.0     Doctorate   \n",
       "4              5         Database Architect  17000.0     Bachelors   \n",
       "5              6  Machine Learning Engineer  19000.0       Masters   \n",
       "6              7           Business Analyst  18000.0           NaN   \n",
       "7              8            UX/UI Developer     23.0     Bachelors   \n",
       "8              9            Devops Engineer  18500.0       Masters   \n",
       "\n",
       "   prev_salary  \n",
       "0      60000.0  \n",
       "1      33000.0  \n",
       "2      28000.0  \n",
       "3      35000.0  \n",
       "4      27000.0  \n",
       "5      29000.0  \n",
       "6      28000.0  \n",
       "7      10023.0  \n",
       "8      28500.0  "
      ]
     },
     "execution_count": 189,
     "metadata": {},
     "output_type": "execute_result"
    }
   ],
   "source": [
    "#column manipulation using lambda function\n",
    "data['prev_salary'] = data['Salary '].apply(lambda m: m + 10000)\n",
    "data"
   ]
  },
  {
   "cell_type": "code",
   "execution_count": 190,
   "id": "c35de6f6",
   "metadata": {},
   "outputs": [],
   "source": [
    "#Manipulate multiple columns using a function\n",
    "#function\n",
    "def salary_growth(salary, prev_salary):\n",
    "    return prev_salary/salary * 100"
   ]
  },
  {
   "cell_type": "code",
   "execution_count": 191,
   "id": "c482666c",
   "metadata": {},
   "outputs": [
    {
     "data": {
      "text/plain": [
       "83.33333333333334"
      ]
     },
     "execution_count": 191,
     "metadata": {},
     "output_type": "execute_result"
    }
   ],
   "source": [
    "#testing function\n",
    "salary_growth(30,25)"
   ]
  },
  {
   "cell_type": "code",
   "execution_count": 192,
   "id": "f7cb8c40",
   "metadata": {},
   "outputs": [
    {
     "data": {
      "text/html": [
       "<div>\n",
       "<style scoped>\n",
       "    .dataframe tbody tr th:only-of-type {\n",
       "        vertical-align: middle;\n",
       "    }\n",
       "\n",
       "    .dataframe tbody tr th {\n",
       "        vertical-align: top;\n",
       "    }\n",
       "\n",
       "    .dataframe thead th {\n",
       "        text-align: right;\n",
       "    }\n",
       "</style>\n",
       "<table border=\"1\" class=\"dataframe\">\n",
       "  <thead>\n",
       "    <tr style=\"text-align: right;\">\n",
       "      <th></th>\n",
       "      <th>Serial Number</th>\n",
       "      <th>Title</th>\n",
       "      <th>Salary</th>\n",
       "      <th>Qualification</th>\n",
       "      <th>prev_salary</th>\n",
       "      <th>sal_growth</th>\n",
       "    </tr>\n",
       "  </thead>\n",
       "  <tbody>\n",
       "    <tr>\n",
       "      <th>0</th>\n",
       "      <td>1</td>\n",
       "      <td>Software Engineer</td>\n",
       "      <td>50000.0</td>\n",
       "      <td>Bachelors</td>\n",
       "      <td>60000.0</td>\n",
       "      <td>120.000000</td>\n",
       "    </tr>\n",
       "    <tr>\n",
       "      <th>1</th>\n",
       "      <td>2</td>\n",
       "      <td>Data Scientist</td>\n",
       "      <td>23000.0</td>\n",
       "      <td>Masters</td>\n",
       "      <td>33000.0</td>\n",
       "      <td>143.478261</td>\n",
       "    </tr>\n",
       "    <tr>\n",
       "      <th>2</th>\n",
       "      <td>3</td>\n",
       "      <td>Project Manager</td>\n",
       "      <td>18000.0</td>\n",
       "      <td>Masters</td>\n",
       "      <td>28000.0</td>\n",
       "      <td>155.555556</td>\n",
       "    </tr>\n",
       "    <tr>\n",
       "      <th>3</th>\n",
       "      <td>4</td>\n",
       "      <td>Professor</td>\n",
       "      <td>25000.0</td>\n",
       "      <td>Doctorate</td>\n",
       "      <td>35000.0</td>\n",
       "      <td>140.000000</td>\n",
       "    </tr>\n",
       "    <tr>\n",
       "      <th>4</th>\n",
       "      <td>5</td>\n",
       "      <td>Database Architect</td>\n",
       "      <td>17000.0</td>\n",
       "      <td>Bachelors</td>\n",
       "      <td>27000.0</td>\n",
       "      <td>158.823529</td>\n",
       "    </tr>\n",
       "    <tr>\n",
       "      <th>5</th>\n",
       "      <td>6</td>\n",
       "      <td>Machine Learning Engineer</td>\n",
       "      <td>19000.0</td>\n",
       "      <td>Masters</td>\n",
       "      <td>29000.0</td>\n",
       "      <td>152.631579</td>\n",
       "    </tr>\n",
       "    <tr>\n",
       "      <th>6</th>\n",
       "      <td>7</td>\n",
       "      <td>Business Analyst</td>\n",
       "      <td>18000.0</td>\n",
       "      <td>NaN</td>\n",
       "      <td>28000.0</td>\n",
       "      <td>155.555556</td>\n",
       "    </tr>\n",
       "    <tr>\n",
       "      <th>7</th>\n",
       "      <td>8</td>\n",
       "      <td>UX/UI Developer</td>\n",
       "      <td>23.0</td>\n",
       "      <td>Bachelors</td>\n",
       "      <td>10023.0</td>\n",
       "      <td>43578.260870</td>\n",
       "    </tr>\n",
       "    <tr>\n",
       "      <th>8</th>\n",
       "      <td>9</td>\n",
       "      <td>Devops Engineer</td>\n",
       "      <td>18500.0</td>\n",
       "      <td>Masters</td>\n",
       "      <td>28500.0</td>\n",
       "      <td>154.054054</td>\n",
       "    </tr>\n",
       "  </tbody>\n",
       "</table>\n",
       "</div>"
      ],
      "text/plain": [
       "   Serial Number                      Title  Salary  Qualification  \\\n",
       "0              1          Software Engineer  50000.0     Bachelors   \n",
       "1              2             Data Scientist  23000.0       Masters   \n",
       "2              3            Project Manager  18000.0       Masters   \n",
       "3              4                  Professor  25000.0     Doctorate   \n",
       "4              5         Database Architect  17000.0     Bachelors   \n",
       "5              6  Machine Learning Engineer  19000.0       Masters   \n",
       "6              7           Business Analyst  18000.0           NaN   \n",
       "7              8            UX/UI Developer     23.0     Bachelors   \n",
       "8              9            Devops Engineer  18500.0       Masters   \n",
       "\n",
       "   prev_salary    sal_growth  \n",
       "0      60000.0    120.000000  \n",
       "1      33000.0    143.478261  \n",
       "2      28000.0    155.555556  \n",
       "3      35000.0    140.000000  \n",
       "4      27000.0    158.823529  \n",
       "5      29000.0    152.631579  \n",
       "6      28000.0    155.555556  \n",
       "7      10023.0  43578.260870  \n",
       "8      28500.0    154.054054  "
      ]
     },
     "execution_count": 192,
     "metadata": {},
     "output_type": "execute_result"
    }
   ],
   "source": [
    "#data manipulation\n",
    "data['sal_growth'] = salary_growth(data['Salary '],data['prev_salary']) \n",
    "data"
   ]
  },
  {
   "cell_type": "code",
   "execution_count": null,
   "id": "72fc34c8",
   "metadata": {},
   "outputs": [],
   "source": []
  }
 ],
 "metadata": {
  "kernelspec": {
   "display_name": "Python 3",
   "language": "python",
   "name": "python3"
  },
  "language_info": {
   "codemirror_mode": {
    "name": "ipython",
    "version": 3
   },
   "file_extension": ".py",
   "mimetype": "text/x-python",
   "name": "python",
   "nbconvert_exporter": "python",
   "pygments_lexer": "ipython3",
   "version": "3.9.5"
  }
 },
 "nbformat": 4,
 "nbformat_minor": 5
}
