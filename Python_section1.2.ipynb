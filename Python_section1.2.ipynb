{
 "cells": [
  {
   "cell_type": "markdown",
   "id": "63281fb9",
   "metadata": {},
   "source": [
    "#### PYTHON PROGRAMMING\n",
    "#### DAY 2 ON 9 DEC 2021"
   ]
  },
  {
   "cell_type": "code",
   "execution_count": null,
   "id": "7811e062",
   "metadata": {},
   "outputs": [],
   "source": [
    "\"\"\"\"\n",
    "Agenda\n",
    "(1)Recap \n",
    "(2)Condition \n",
    "(3)Loops\n",
    "(4)Functions\n",
    "(5)Import Packages with functions\n",
    "(6)Errors handling\n",
    "\"\"\"\n",
    "\n",
    "\n",
    "\"\"\"\n",
    "next topics\n",
    "# read from file\n",
    "# read data from database\n",
    "# visualize file\n",
    "# intro to numpy, pandas and matplotlib\n",
    "\"\"\""
   ]
  },
  {
   "cell_type": "markdown",
   "id": "5bda16f7",
   "metadata": {},
   "source": [
    "## (1) Recap "
   ]
  },
  {
   "cell_type": "code",
   "execution_count": null,
   "id": "9853dab1",
   "metadata": {},
   "outputs": [],
   "source": [
    "# file Python Section 1.1"
   ]
  },
  {
   "cell_type": "markdown",
   "id": "fa2a255c",
   "metadata": {},
   "source": [
    "## (2) Condition "
   ]
  },
  {
   "cell_type": "code",
   "execution_count": null,
   "id": "eea069b4",
   "metadata": {},
   "outputs": [],
   "source": [
    "# Condition operators \n",
    "\"\"\"\n",
    "Equals: a == b\n",
    "Not Equals: a != b\n",
    "Less than: a < b\n",
    "Less than or equal to: a <= b\n",
    "Greater than: a > b\n",
    "Greater than or equal to: a >= b\n",
    "a in b\n",
    "\"\"\""
   ]
  },
  {
   "cell_type": "code",
   "execution_count": null,
   "id": "960fc431",
   "metadata": {},
   "outputs": [],
   "source": [
    "TZ_regions = ['Pwani', 'Dodoma', 'Rukwa','Arusha']\n",
    "\n",
    "Region = 'Arusha'\n",
    "\n",
    "#if without else\n",
    "if Region in TZ_regions:\n",
    "    print(Region + \" is in Tanzania\")\n",
    "\n"
   ]
  },
  {
   "cell_type": "code",
   "execution_count": null,
   "id": "88f1e1da",
   "metadata": {},
   "outputs": [],
   "source": [
    "#if ..else   else holds when condition is false\n",
    "if Region in TZ_regions:\n",
    "    print(Region + \" is in Tanzania\")\n",
    "else:\n",
    "    print(Region + \" is not a region in Tanzania\")"
   ]
  },
  {
   "cell_type": "code",
   "execution_count": null,
   "id": "f5691e36",
   "metadata": {},
   "outputs": [],
   "source": [
    "#if ..elif   allows multiple conditions\n",
    "a = 34\n",
    "b = 33\n",
    "if b > a:\n",
    "  print(\"b is greater than a\")\n",
    "elif a == b:\n",
    "  print(\"a and b are equal\")\n",
    "elif b < a:\n",
    "  print(\"a is greater than b\")"
   ]
  },
  {
   "cell_type": "code",
   "execution_count": null,
   "id": "a9288bef",
   "metadata": {},
   "outputs": [],
   "source": [
    "#conditions can be nested to each other"
   ]
  },
  {
   "cell_type": "markdown",
   "id": "3c488a54",
   "metadata": {},
   "source": [
    "## (3) Loops"
   ]
  },
  {
   "cell_type": "code",
   "execution_count": null,
   "id": "eefa9ef2",
   "metadata": {},
   "outputs": [],
   "source": [
    "# while loop, repeat while condition is true\n",
    "x = 6\n",
    "z = 2 \n",
    "while (z < x):\n",
    "    z = z + 1\n",
    "    print(z)\n"
   ]
  },
  {
   "cell_type": "code",
   "execution_count": null,
   "id": "7d747710",
   "metadata": {},
   "outputs": [],
   "source": [
    "#for loop, repeat execution for fixed number of times\n",
    "fruits = [\"apple\", \"banana\", \"cherry\"]\n",
    "for x in fruits:\n",
    "  print(x)"
   ]
  },
  {
   "cell_type": "code",
   "execution_count": null,
   "id": "7fc81472",
   "metadata": {},
   "outputs": [],
   "source": [
    "for i in range(len(fruits)):\n",
    "    print(fruits[i])"
   ]
  },
  {
   "cell_type": "code",
   "execution_count": null,
   "id": "d2e1840b",
   "metadata": {},
   "outputs": [],
   "source": [
    "for z in range(0,10):\n",
    "    print(z)"
   ]
  },
  {
   "cell_type": "code",
   "execution_count": 24,
   "id": "b075a645",
   "metadata": {},
   "outputs": [
    {
     "name": "stdout",
     "output_type": "stream",
     "text": [
      "0\n",
      "1\n"
     ]
    }
   ],
   "source": [
    "for z in range(0,10):\n",
    "    if z==2:\n",
    "        break\n",
    "    print(z)"
   ]
  },
  {
   "cell_type": "code",
   "execution_count": 26,
   "id": "62bc20ae",
   "metadata": {},
   "outputs": [
    {
     "name": "stdout",
     "output_type": "stream",
     "text": [
      "i = 0, and j=0\n",
      "i = 0, and j=1\n",
      "i = 0, and j=2\n",
      "i = 0, and j=3\n",
      "i = 0, and j=4\n",
      "i = 1, and j=0\n",
      "i = 1, and j=1\n",
      "i = 1, and j=2\n",
      "i = 1, and j=3\n",
      "i = 1, and j=4\n",
      "i = 2, and j=0\n",
      "i = 2, and j=1\n",
      "i = 2, and j=2\n",
      "i = 2, and j=3\n",
      "i = 2, and j=4\n",
      "i = 3, and j=0\n",
      "i = 3, and j=1\n",
      "i = 3, and j=2\n",
      "i = 3, and j=3\n",
      "i = 3, and j=4\n"
     ]
    }
   ],
   "source": [
    "for i in range(0,4):\n",
    "    for j in range(0,5):\n",
    "        print(\"i = {}, and j={}\".format(i,j))"
   ]
  },
  {
   "cell_type": "code",
   "execution_count": 28,
   "id": "91979c6d",
   "metadata": {},
   "outputs": [
    {
     "name": "stdout",
     "output_type": "stream",
     "text": [
      "i = 0, and j=1\n",
      "i = 0, and j=2\n",
      "i = 0, and j=3\n",
      "i = 0, and j=4\n",
      "i = 1, and j=0\n",
      "i = 1, and j=2\n",
      "i = 1, and j=3\n",
      "i = 1, and j=4\n",
      "i = 2, and j=0\n",
      "i = 2, and j=1\n",
      "i = 2, and j=3\n",
      "i = 2, and j=4\n",
      "i = 3, and j=0\n",
      "i = 3, and j=1\n",
      "i = 3, and j=2\n",
      "i = 3, and j=4\n"
     ]
    }
   ],
   "source": [
    "for i in range(0,4):\n",
    "    for j in range(0,5):\n",
    "        if i == j:\n",
    "            continue\n",
    "        print(\"i = {}, and j={}\".format(i,j))"
   ]
  },
  {
   "cell_type": "code",
   "execution_count": null,
   "id": "5774d11c",
   "metadata": {},
   "outputs": [],
   "source": [
    "# break and continue are used to break or skip loop \n",
    "# loops can be nested"
   ]
  },
  {
   "cell_type": "markdown",
   "id": "9f6cac3a",
   "metadata": {},
   "source": [
    "## (3) Functions"
   ]
  },
  {
   "cell_type": "code",
   "execution_count": 30,
   "id": "e8201fd3",
   "metadata": {},
   "outputs": [
    {
     "name": "stdout",
     "output_type": "stream",
     "text": [
      "output function\n"
     ]
    }
   ],
   "source": [
    "# function is a block of code that is called to execute\n",
    "# can be part of code that is run more that one \n",
    "# helps to reduce size of code and make code clean and maintainable \n",
    "#use keyword def\n",
    "\n",
    "#define function, may or may not take input\n",
    "def name_of_function():\n",
    "  print(\"output function\")\n",
    "\n",
    "#call function\n",
    "name_of_function()\n"
   ]
  },
  {
   "cell_type": "code",
   "execution_count": 32,
   "id": "724457c6",
   "metadata": {},
   "outputs": [
    {
     "name": "stdout",
     "output_type": "stream",
     "text": [
      "Your name is Rwey\n"
     ]
    }
   ],
   "source": [
    "#Function that takes argument\n",
    "def name_function(name):\n",
    "  print(\"Your name is {}\".format(name))\n",
    "\n",
    "name_function(\"Rwey\")"
   ]
  },
  {
   "cell_type": "code",
   "execution_count": 34,
   "id": "c075cab8",
   "metadata": {},
   "outputs": [
    {
     "name": "stdout",
     "output_type": "stream",
     "text": [
      "Your name is Rwey Barongo\n"
     ]
    }
   ],
   "source": [
    "#Function that takes argument\n",
    "def name_function(firstname, lastname):\n",
    "  print(\"Your name is {} {}\".format(firstname,lastname))\n",
    "\n",
    "name_function(\"Rwey\",\"Barongo\")"
   ]
  },
  {
   "cell_type": "code",
   "execution_count": 40,
   "id": "666bde49",
   "metadata": {},
   "outputs": [
    {
     "data": {
      "text/plain": [
       "15.71"
      ]
     },
     "execution_count": 40,
     "metadata": {},
     "output_type": "execute_result"
    }
   ],
   "source": [
    "#function that takes input and returns value\n",
    "def area_of_circle(radius):\n",
    "    return round(22/7 * (radius^2),2)\n",
    "\n",
    "area_of_circle(7)"
   ]
  },
  {
   "cell_type": "markdown",
   "id": "a8048e7d",
   "metadata": {},
   "source": [
    "## (5) Import Packages with functions"
   ]
  },
  {
   "cell_type": "code",
   "execution_count": 46,
   "id": "37fbaeca",
   "metadata": {},
   "outputs": [
    {
     "data": {
      "text/plain": [
       "21"
      ]
     },
     "execution_count": 46,
     "metadata": {},
     "output_type": "execute_result"
    }
   ],
   "source": [
    "# import package with function\n",
    "import math \n",
    "\n",
    "x = math.lcm(7,3)\n",
    "x"
   ]
  },
  {
   "cell_type": "code",
   "execution_count": null,
   "id": "abae21e0",
   "metadata": {},
   "outputs": [],
   "source": [
    "    math. + tab to view package functions"
   ]
  },
  {
   "cell_type": "markdown",
   "id": "9ed4eb52",
   "metadata": {},
   "source": [
    "## (6) Error Handling "
   ]
  },
  {
   "cell_type": "code",
   "execution_count": 48,
   "id": "9290b58c",
   "metadata": {},
   "outputs": [
    {
     "name": "stdout",
     "output_type": "stream",
     "text": [
      "error\n"
     ]
    }
   ],
   "source": [
    "a = 7\n",
    "b = 0\n",
    "c = 1\n",
    "try:\n",
    "    c = a / b\n",
    "except:\n",
    "    print(\"error\")\n",
    "else:\n",
    "    print(c)"
   ]
  },
  {
   "cell_type": "code",
   "execution_count": null,
   "id": "a3184273",
   "metadata": {},
   "outputs": [],
   "source": [
    "## Pandas, Numpy and Matplotlib "
   ]
  }
 ],
 "metadata": {
  "kernelspec": {
   "display_name": "Python 3",
   "language": "python",
   "name": "python3"
  },
  "language_info": {
   "codemirror_mode": {
    "name": "ipython",
    "version": 3
   },
   "file_extension": ".py",
   "mimetype": "text/x-python",
   "name": "python",
   "nbconvert_exporter": "python",
   "pygments_lexer": "ipython3",
   "version": "3.9.5"
  }
 },
 "nbformat": 4,
 "nbformat_minor": 5
}
